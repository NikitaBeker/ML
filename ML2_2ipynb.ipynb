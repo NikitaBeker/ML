{
  "nbformat": 4,
  "nbformat_minor": 0,
  "metadata": {
    "colab": {
      "provenance": []
    },
    "kernelspec": {
      "name": "python3",
      "display_name": "Python 3"
    },
    "language_info": {
      "name": "python"
    }
  },
  "cells": [
    {
      "cell_type": "code",
      "execution_count": null,
      "metadata": {
        "id": "pyilDTBwivo4"
      },
      "outputs": [],
      "source": [
        "import pandas as pd\n",
        "\n",
        "data = pd.read_csv(\"https://raw.githubusercontent.com/koroteevmv/ML_course/2023/ML2.2%20real%20classification/data/diabetes.csv\")"
      ]
    },
    {
      "cell_type": "code",
      "source": [
        "data.head()"
      ],
      "metadata": {
        "colab": {
          "base_uri": "https://localhost:8080/",
          "height": 206
        },
        "id": "UAszPBtDuKF2",
        "outputId": "e2fefb4d-9ad8-46bd-8014-40ffddf9acc7"
      },
      "execution_count": null,
      "outputs": [
        {
          "output_type": "execute_result",
          "data": {
            "text/plain": [
              "   Pregnancies  Glucose  BloodPressure  SkinThickness  Insulin   BMI  \\\n",
              "0            6      148             72             35        0  33.6   \n",
              "1            1       85             66             29        0  26.6   \n",
              "2            8      183             64              0        0  23.3   \n",
              "3            1       89             66             23       94  28.1   \n",
              "4            0      137             40             35      168  43.1   \n",
              "\n",
              "   DiabetesPedigreeFunction  Age  Outcome  \n",
              "0                     0.627   50        1  \n",
              "1                     0.351   31        0  \n",
              "2                     0.672   32        1  \n",
              "3                     0.167   21        0  \n",
              "4                     2.288   33        1  "
            ],
            "text/html": [
              "\n",
              "  <div id=\"df-a8953cb0-bec6-4d0d-bdd1-92c98f882ace\" class=\"colab-df-container\">\n",
              "    <div>\n",
              "<style scoped>\n",
              "    .dataframe tbody tr th:only-of-type {\n",
              "        vertical-align: middle;\n",
              "    }\n",
              "\n",
              "    .dataframe tbody tr th {\n",
              "        vertical-align: top;\n",
              "    }\n",
              "\n",
              "    .dataframe thead th {\n",
              "        text-align: right;\n",
              "    }\n",
              "</style>\n",
              "<table border=\"1\" class=\"dataframe\">\n",
              "  <thead>\n",
              "    <tr style=\"text-align: right;\">\n",
              "      <th></th>\n",
              "      <th>Pregnancies</th>\n",
              "      <th>Glucose</th>\n",
              "      <th>BloodPressure</th>\n",
              "      <th>SkinThickness</th>\n",
              "      <th>Insulin</th>\n",
              "      <th>BMI</th>\n",
              "      <th>DiabetesPedigreeFunction</th>\n",
              "      <th>Age</th>\n",
              "      <th>Outcome</th>\n",
              "    </tr>\n",
              "  </thead>\n",
              "  <tbody>\n",
              "    <tr>\n",
              "      <th>0</th>\n",
              "      <td>6</td>\n",
              "      <td>148</td>\n",
              "      <td>72</td>\n",
              "      <td>35</td>\n",
              "      <td>0</td>\n",
              "      <td>33.6</td>\n",
              "      <td>0.627</td>\n",
              "      <td>50</td>\n",
              "      <td>1</td>\n",
              "    </tr>\n",
              "    <tr>\n",
              "      <th>1</th>\n",
              "      <td>1</td>\n",
              "      <td>85</td>\n",
              "      <td>66</td>\n",
              "      <td>29</td>\n",
              "      <td>0</td>\n",
              "      <td>26.6</td>\n",
              "      <td>0.351</td>\n",
              "      <td>31</td>\n",
              "      <td>0</td>\n",
              "    </tr>\n",
              "    <tr>\n",
              "      <th>2</th>\n",
              "      <td>8</td>\n",
              "      <td>183</td>\n",
              "      <td>64</td>\n",
              "      <td>0</td>\n",
              "      <td>0</td>\n",
              "      <td>23.3</td>\n",
              "      <td>0.672</td>\n",
              "      <td>32</td>\n",
              "      <td>1</td>\n",
              "    </tr>\n",
              "    <tr>\n",
              "      <th>3</th>\n",
              "      <td>1</td>\n",
              "      <td>89</td>\n",
              "      <td>66</td>\n",
              "      <td>23</td>\n",
              "      <td>94</td>\n",
              "      <td>28.1</td>\n",
              "      <td>0.167</td>\n",
              "      <td>21</td>\n",
              "      <td>0</td>\n",
              "    </tr>\n",
              "    <tr>\n",
              "      <th>4</th>\n",
              "      <td>0</td>\n",
              "      <td>137</td>\n",
              "      <td>40</td>\n",
              "      <td>35</td>\n",
              "      <td>168</td>\n",
              "      <td>43.1</td>\n",
              "      <td>2.288</td>\n",
              "      <td>33</td>\n",
              "      <td>1</td>\n",
              "    </tr>\n",
              "  </tbody>\n",
              "</table>\n",
              "</div>\n",
              "    <div class=\"colab-df-buttons\">\n",
              "\n",
              "  <div class=\"colab-df-container\">\n",
              "    <button class=\"colab-df-convert\" onclick=\"convertToInteractive('df-a8953cb0-bec6-4d0d-bdd1-92c98f882ace')\"\n",
              "            title=\"Convert this dataframe to an interactive table.\"\n",
              "            style=\"display:none;\">\n",
              "\n",
              "  <svg xmlns=\"http://www.w3.org/2000/svg\" height=\"24px\" viewBox=\"0 -960 960 960\">\n",
              "    <path d=\"M120-120v-720h720v720H120Zm60-500h600v-160H180v160Zm220 220h160v-160H400v160Zm0 220h160v-160H400v160ZM180-400h160v-160H180v160Zm440 0h160v-160H620v160ZM180-180h160v-160H180v160Zm440 0h160v-160H620v160Z\"/>\n",
              "  </svg>\n",
              "    </button>\n",
              "\n",
              "  <style>\n",
              "    .colab-df-container {\n",
              "      display:flex;\n",
              "      gap: 12px;\n",
              "    }\n",
              "\n",
              "    .colab-df-convert {\n",
              "      background-color: #E8F0FE;\n",
              "      border: none;\n",
              "      border-radius: 50%;\n",
              "      cursor: pointer;\n",
              "      display: none;\n",
              "      fill: #1967D2;\n",
              "      height: 32px;\n",
              "      padding: 0 0 0 0;\n",
              "      width: 32px;\n",
              "    }\n",
              "\n",
              "    .colab-df-convert:hover {\n",
              "      background-color: #E2EBFA;\n",
              "      box-shadow: 0px 1px 2px rgba(60, 64, 67, 0.3), 0px 1px 3px 1px rgba(60, 64, 67, 0.15);\n",
              "      fill: #174EA6;\n",
              "    }\n",
              "\n",
              "    .colab-df-buttons div {\n",
              "      margin-bottom: 4px;\n",
              "    }\n",
              "\n",
              "    [theme=dark] .colab-df-convert {\n",
              "      background-color: #3B4455;\n",
              "      fill: #D2E3FC;\n",
              "    }\n",
              "\n",
              "    [theme=dark] .colab-df-convert:hover {\n",
              "      background-color: #434B5C;\n",
              "      box-shadow: 0px 1px 3px 1px rgba(0, 0, 0, 0.15);\n",
              "      filter: drop-shadow(0px 1px 2px rgba(0, 0, 0, 0.3));\n",
              "      fill: #FFFFFF;\n",
              "    }\n",
              "  </style>\n",
              "\n",
              "    <script>\n",
              "      const buttonEl =\n",
              "        document.querySelector('#df-a8953cb0-bec6-4d0d-bdd1-92c98f882ace button.colab-df-convert');\n",
              "      buttonEl.style.display =\n",
              "        google.colab.kernel.accessAllowed ? 'block' : 'none';\n",
              "\n",
              "      async function convertToInteractive(key) {\n",
              "        const element = document.querySelector('#df-a8953cb0-bec6-4d0d-bdd1-92c98f882ace');\n",
              "        const dataTable =\n",
              "          await google.colab.kernel.invokeFunction('convertToInteractive',\n",
              "                                                    [key], {});\n",
              "        if (!dataTable) return;\n",
              "\n",
              "        const docLinkHtml = 'Like what you see? Visit the ' +\n",
              "          '<a target=\"_blank\" href=https://colab.research.google.com/notebooks/data_table.ipynb>data table notebook</a>'\n",
              "          + ' to learn more about interactive tables.';\n",
              "        element.innerHTML = '';\n",
              "        dataTable['output_type'] = 'display_data';\n",
              "        await google.colab.output.renderOutput(dataTable, element);\n",
              "        const docLink = document.createElement('div');\n",
              "        docLink.innerHTML = docLinkHtml;\n",
              "        element.appendChild(docLink);\n",
              "      }\n",
              "    </script>\n",
              "  </div>\n",
              "\n",
              "\n",
              "<div id=\"df-97fa0940-a74e-436e-a3df-fd19c9698cc8\">\n",
              "  <button class=\"colab-df-quickchart\" onclick=\"quickchart('df-97fa0940-a74e-436e-a3df-fd19c9698cc8')\"\n",
              "            title=\"Suggest charts\"\n",
              "            style=\"display:none;\">\n",
              "\n",
              "<svg xmlns=\"http://www.w3.org/2000/svg\" height=\"24px\"viewBox=\"0 0 24 24\"\n",
              "     width=\"24px\">\n",
              "    <g>\n",
              "        <path d=\"M19 3H5c-1.1 0-2 .9-2 2v14c0 1.1.9 2 2 2h14c1.1 0 2-.9 2-2V5c0-1.1-.9-2-2-2zM9 17H7v-7h2v7zm4 0h-2V7h2v10zm4 0h-2v-4h2v4z\"/>\n",
              "    </g>\n",
              "</svg>\n",
              "  </button>\n",
              "\n",
              "<style>\n",
              "  .colab-df-quickchart {\n",
              "      --bg-color: #E8F0FE;\n",
              "      --fill-color: #1967D2;\n",
              "      --hover-bg-color: #E2EBFA;\n",
              "      --hover-fill-color: #174EA6;\n",
              "      --disabled-fill-color: #AAA;\n",
              "      --disabled-bg-color: #DDD;\n",
              "  }\n",
              "\n",
              "  [theme=dark] .colab-df-quickchart {\n",
              "      --bg-color: #3B4455;\n",
              "      --fill-color: #D2E3FC;\n",
              "      --hover-bg-color: #434B5C;\n",
              "      --hover-fill-color: #FFFFFF;\n",
              "      --disabled-bg-color: #3B4455;\n",
              "      --disabled-fill-color: #666;\n",
              "  }\n",
              "\n",
              "  .colab-df-quickchart {\n",
              "    background-color: var(--bg-color);\n",
              "    border: none;\n",
              "    border-radius: 50%;\n",
              "    cursor: pointer;\n",
              "    display: none;\n",
              "    fill: var(--fill-color);\n",
              "    height: 32px;\n",
              "    padding: 0;\n",
              "    width: 32px;\n",
              "  }\n",
              "\n",
              "  .colab-df-quickchart:hover {\n",
              "    background-color: var(--hover-bg-color);\n",
              "    box-shadow: 0 1px 2px rgba(60, 64, 67, 0.3), 0 1px 3px 1px rgba(60, 64, 67, 0.15);\n",
              "    fill: var(--button-hover-fill-color);\n",
              "  }\n",
              "\n",
              "  .colab-df-quickchart-complete:disabled,\n",
              "  .colab-df-quickchart-complete:disabled:hover {\n",
              "    background-color: var(--disabled-bg-color);\n",
              "    fill: var(--disabled-fill-color);\n",
              "    box-shadow: none;\n",
              "  }\n",
              "\n",
              "  .colab-df-spinner {\n",
              "    border: 2px solid var(--fill-color);\n",
              "    border-color: transparent;\n",
              "    border-bottom-color: var(--fill-color);\n",
              "    animation:\n",
              "      spin 1s steps(1) infinite;\n",
              "  }\n",
              "\n",
              "  @keyframes spin {\n",
              "    0% {\n",
              "      border-color: transparent;\n",
              "      border-bottom-color: var(--fill-color);\n",
              "      border-left-color: var(--fill-color);\n",
              "    }\n",
              "    20% {\n",
              "      border-color: transparent;\n",
              "      border-left-color: var(--fill-color);\n",
              "      border-top-color: var(--fill-color);\n",
              "    }\n",
              "    30% {\n",
              "      border-color: transparent;\n",
              "      border-left-color: var(--fill-color);\n",
              "      border-top-color: var(--fill-color);\n",
              "      border-right-color: var(--fill-color);\n",
              "    }\n",
              "    40% {\n",
              "      border-color: transparent;\n",
              "      border-right-color: var(--fill-color);\n",
              "      border-top-color: var(--fill-color);\n",
              "    }\n",
              "    60% {\n",
              "      border-color: transparent;\n",
              "      border-right-color: var(--fill-color);\n",
              "    }\n",
              "    80% {\n",
              "      border-color: transparent;\n",
              "      border-right-color: var(--fill-color);\n",
              "      border-bottom-color: var(--fill-color);\n",
              "    }\n",
              "    90% {\n",
              "      border-color: transparent;\n",
              "      border-bottom-color: var(--fill-color);\n",
              "    }\n",
              "  }\n",
              "</style>\n",
              "\n",
              "  <script>\n",
              "    async function quickchart(key) {\n",
              "      const quickchartButtonEl =\n",
              "        document.querySelector('#' + key + ' button');\n",
              "      quickchartButtonEl.disabled = true;  // To prevent multiple clicks.\n",
              "      quickchartButtonEl.classList.add('colab-df-spinner');\n",
              "      try {\n",
              "        const charts = await google.colab.kernel.invokeFunction(\n",
              "            'suggestCharts', [key], {});\n",
              "      } catch (error) {\n",
              "        console.error('Error during call to suggestCharts:', error);\n",
              "      }\n",
              "      quickchartButtonEl.classList.remove('colab-df-spinner');\n",
              "      quickchartButtonEl.classList.add('colab-df-quickchart-complete');\n",
              "    }\n",
              "    (() => {\n",
              "      let quickchartButtonEl =\n",
              "        document.querySelector('#df-97fa0940-a74e-436e-a3df-fd19c9698cc8 button');\n",
              "      quickchartButtonEl.style.display =\n",
              "        google.colab.kernel.accessAllowed ? 'block' : 'none';\n",
              "    })();\n",
              "  </script>\n",
              "</div>\n",
              "    </div>\n",
              "  </div>\n"
            ]
          },
          "metadata": {},
          "execution_count": 3
        }
      ]
    },
    {
      "cell_type": "code",
      "source": [
        "y = data.Outcome\n",
        "X = data.drop([\"Outcome\"], axis=1)"
      ],
      "metadata": {
        "id": "zlMWQB38uL41"
      },
      "execution_count": null,
      "outputs": []
    },
    {
      "cell_type": "code",
      "source": [
        "from sklearn.linear_model import LogisticRegression\n",
        "logistic = LogisticRegression()\n",
        "logistic.fit(X, y)\n",
        "\n",
        "_ = [print(k, v) for k, v in zip(X.columns, logistic.coef_[0])]"
      ],
      "metadata": {
        "id": "6hAUS5wHuVvf"
      },
      "execution_count": null,
      "outputs": []
    },
    {
      "cell_type": "code",
      "source": [
        "y_pred = logistic.predict(X)\n",
        "\n",
        "_ = [print(a, b) for a, b in list(zip(y, y_pred))[:10]]"
      ],
      "metadata": {
        "colab": {
          "base_uri": "https://localhost:8080/"
        },
        "id": "XSKdy05EumE-",
        "outputId": "1009ef0a-e96e-40cd-aabd-8170f37178e5"
      },
      "execution_count": null,
      "outputs": [
        {
          "output_type": "stream",
          "name": "stdout",
          "text": [
            "1 1\n",
            "0 0\n",
            "1 1\n",
            "0 0\n",
            "1 1\n",
            "0 0\n",
            "1 0\n",
            "0 1\n",
            "1 1\n",
            "1 0\n"
          ]
        }
      ]
    },
    {
      "cell_type": "code",
      "source": [
        "from sklearn import metrics\n",
        "metrics.confusion_matrix(y, y_pred)\n",
        "\n",
        "import seaborn as sns\n",
        "sns.heatmap(metrics.confusion_matrix(y, y_pred), annot=True)"
      ],
      "metadata": {
        "colab": {
          "base_uri": "https://localhost:8080/",
          "height": 447
        },
        "id": "9YmB8PxPut7_",
        "outputId": "4ee74c9f-5272-467c-8536-804b9ae4a8f3"
      },
      "execution_count": null,
      "outputs": [
        {
          "output_type": "execute_result",
          "data": {
            "text/plain": [
              "<Axes: >"
            ]
          },
          "metadata": {},
          "execution_count": 11
        },
        {
          "output_type": "display_data",
          "data": {
            "text/plain": [
              "<Figure size 640x480 with 2 Axes>"
            ],
            "image/png": "[encoded data removed]"
          },
          "metadata": {}
        }
      ]
    },
    {
      "cell_type": "code",
      "source": [
        "metrics.accuracy_score(y, y_pred)"
      ],
      "metadata": {
        "colab": {
          "base_uri": "https://localhost:8080/"
        },
        "id": "rdJ1ubMEvDPW",
        "outputId": "5f9d5976-a8f2-4c8b-c42d-1cd4b662f98d"
      },
      "execution_count": null,
      "outputs": [
        {
          "output_type": "execute_result",
          "data": {
            "text/plain": [
              "0.7825520833333334"
            ]
          },
          "metadata": {},
          "execution_count": 14
        }
      ]
    },
    {
      "cell_type": "code",
      "source": [
        "from sklearn.preprocessing import PolynomialFeatures\n",
        "\n",
        "poly = PolynomialFeatures(2)\n",
        "poly = poly.fit_transform(X)"
      ],
      "metadata": {
        "id": "Ayt-WdxTvpMF"
      },
      "execution_count": null,
      "outputs": []
    },
    {
      "cell_type": "code",
      "source": [
        "polynomial = LogisticRegression()\n",
        "polynomial.fit(poly, y)\n",
        "y_pred_poly = polynomial.predict(poly)"
      ],
      "metadata": {
        "id": "opwfKDWtv44o"
      },
      "execution_count": null,
      "outputs": []
    },
    {
      "cell_type": "code",
      "source": [
        "metrics.accuracy_score(y, y_pred_poly)"
      ],
      "metadata": {
        "colab": {
          "base_uri": "https://localhost:8080/"
        },
        "id": "BQxlud9QwSi3",
        "outputId": "8918cab2-92b2-4ff8-b562-87318cdb55de"
      },
      "execution_count": null,
      "outputs": [
        {
          "output_type": "execute_result",
          "data": {
            "text/plain": [
              "0.7239583333333334"
            ]
          },
          "metadata": {},
          "execution_count": 20
        }
      ]
    },
    {
      "cell_type": "markdown",
      "source": [
        "1 Какую еще информацию можно вывести для обученной модели? Попробуйте изменить аргументы при создании модели и посмотрите, как это влияет на качество предсказания."
      ],
      "metadata": {
        "id": "5zzRJxhhD3GU"
      }
    },
    {
      "cell_type": "code",
      "source": [
        "#1\n",
        "\n",
        "from sklearn.metrics import classification_report\n",
        "\n",
        "print(\"Метрики для обычной логистической регрессии:\")\n",
        "print(classification_report(y, y_pred))\n",
        "print(\"Метрики для полиномиальной логистической регрессии:\")\n",
        "print(classification_report(y, y_pred_poly))\n",
        "print(\"Матрица ошибок для полиномиальной логистической регрессии:\")\n",
        "print(metrics.confusion_matrix(y, y_pred_poly))"
      ],
      "metadata": {
        "colab": {
          "base_uri": "https://localhost:8080/"
        },
        "id": "P6qHZOMKyFkX",
        "outputId": "cea2f3b0-c6e0-4793-e0c7-febeced52d89"
      },
      "execution_count": null,
      "outputs": [
        {
          "output_type": "stream",
          "name": "stdout",
          "text": [
            "Метрики для обычной логистической регрессии:\n",
            "              precision    recall  f1-score   support\n",
            "\n",
            "           0       0.80      0.89      0.84       500\n",
            "           1       0.74      0.57      0.65       268\n",
            "\n",
            "    accuracy                           0.78       768\n",
            "   macro avg       0.77      0.73      0.75       768\n",
            "weighted avg       0.78      0.78      0.77       768\n",
            "\n",
            "Метрики для полиномиальной логистической регрессии:\n",
            "              precision    recall  f1-score   support\n",
            "\n",
            "           0       0.77      0.82      0.79       500\n",
            "           1       0.62      0.55      0.58       268\n",
            "\n",
            "    accuracy                           0.72       768\n",
            "   macro avg       0.69      0.68      0.69       768\n",
            "weighted avg       0.72      0.72      0.72       768\n",
            "\n",
            "Матрица ошибок для полиномиальной логистической регрессии:\n",
            "[[409  91]\n",
            " [121 147]]\n"
          ]
        }
      ]
    },
    {
      "cell_type": "code",
      "source": [
        "from sklearn.model_selection import GridSearchCV\n",
        "\n",
        "# Определение сетки параметров для поиска оптимального C\n",
        "param_grid = {'C': [0.001, 0.01, 0.1, 1, 10, 100]}\n",
        "\n",
        "logistic = LogisticRegression()\n",
        "\n",
        "grid_search = GridSearchCV(logistic, param_grid, cv=5)\n",
        "grid_search.fit(X, y)\n",
        "\n",
        "print(\"Наилучший параметр C:\", grid_search.best_params_)\n",
        "print(\"Лучшее значение качества:\", grid_search.best_score_)"
      ],
      "metadata": {
        "id": "NUgds-1Sysy-"
      },
      "execution_count": null,
      "outputs": []
    },
    {
      "cell_type": "markdown",
      "source": [
        "2 Попробуйте применить к той же задаче другие модели классификации. Для каждой из них выведите матрицу классификации и оценку точности. Рекомендуется исследовать следующие модели:\n",
        "Метод опорных векторов\n",
        "Без ядра\n",
        "С линейным ядром\n",
        "С гауссовым ядром\n",
        "С полиномиальным ядром\n",
        "Метод ближайших соседей\n",
        "Многослойный перцептрон\n",
        "Дерево решений\n",
        "Наивный байесовский классификатор\n",
        "(*) Другие методы:\n",
        "Пассивно-агрессивный классификатор\n",
        "Гребневый классификатор\n",
        "Случайный лес\n",
        "Беггинг"
      ],
      "metadata": {
        "id": "4uTZKddOD8EM"
      }
    },
    {
      "cell_type": "code",
      "source": [
        "#2\n",
        "from sklearn.svm import SVC\n",
        "from sklearn.neighbors import KNeighborsClassifier\n",
        "from sklearn.neural_network import MLPClassifier\n",
        "from sklearn.tree import DecisionTreeClassifier\n",
        "from sklearn.naive_bayes import GaussianNB\n",
        "from sklearn.ensemble import RandomForestClassifier, BaggingClassifier\n",
        "from sklearn.linear_model import PassiveAggressiveClassifier, RidgeClassifier\n",
        "from sklearn.metrics import accuracy_score, confusion_matrix\n",
        "from sklearn.model_selection import train_test_split\n",
        "\n",
        "# Разделение данных на обучающую и тестовую выборки\n",
        "X_train, X_test, y_train, y_test = train_test_split(X, y, test_size=0.2, random_state=42)\n",
        "\n",
        "# Используемые модели\n",
        "models = {\n",
        "    \"Метод опорных векторов (без ядра)\": SVC(kernel='linear'),\n",
        "    \"Метод опорных векторов (с линейным ядром)\": SVC(kernel='linear'),\n",
        "    \"Метод опорных векторов (с гауссовым ядром)\": SVC(kernel='rbf'),\n",
        "    \"Метод опорных векторов (с полиномиальным ядром)\": SVC(kernel='poly'),\n",
        "    \"Метод ближайших соседей\": KNeighborsClassifier(),\n",
        "    \"Многослойный перцептрон\": MLPClassifier(),\n",
        "    \"Дерево решений\": DecisionTreeClassifier(),\n",
        "    \"Наивный байесовский классификатор\": GaussianNB(),\n",
        "    \"Пассивно-агрессивный классификатор\": PassiveAggressiveClassifier(),\n",
        "    \"Гребневый классификатор\": RidgeClassifier(),\n",
        "    \"Случайный лес\": RandomForestClassifier(),\n",
        "    \"Беггинг\": BaggingClassifier()\n",
        "}\n",
        "\n",
        "\n",
        "for name, model in models.items():\n",
        "    model.fit(X_train, y_train)\n",
        "    y_pred = model.predict(X_test)\n",
        "    acc = accuracy_score(y_test, y_pred)\n",
        "    print(f\"Модель: {name}\")\n",
        "    print(f\"Точность: {acc}\")\n",
        "    print(f\"Матрица классификации:\\n{confusion_matrix(y_test, y_pred)}\")\n",
        "    print(\"----------\")"
      ],
      "metadata": {
        "colab": {
          "base_uri": "https://localhost:8080/"
        },
        "id": "FnUNWPWY0Jbc",
        "outputId": "77d863e3-2c1a-4f50-e152-5d1dd26a2003"
      },
      "execution_count": null,
      "outputs": [
        {
          "output_type": "stream",
          "name": "stdout",
          "text": [
            "Модель: Метод опорных векторов (без ядра)\n",
            "Точность: 0.7532467532467533\n",
            "Матрица классификации:\n",
            "[[80 19]\n",
            " [19 36]]\n",
            "----------\n",
            "Модель: Метод опорных векторов (с линейным ядром)\n",
            "Точность: 0.7532467532467533\n",
            "Матрица классификации:\n",
            "[[80 19]\n",
            " [19 36]]\n",
            "----------\n",
            "Модель: Метод опорных векторов (с гауссовым ядром)\n",
            "Точность: 0.7662337662337663\n",
            "Матрица классификации:\n",
            "[[87 12]\n",
            " [24 31]]\n",
            "----------\n",
            "Модель: Метод опорных векторов (с полиномиальным ядром)\n",
            "Точность: 0.7597402597402597\n",
            "Матрица классификации:\n",
            "[[87 12]\n",
            " [25 30]]\n",
            "----------\n",
            "Модель: Метод ближайших соседей\n",
            "Точность: 0.6623376623376623\n",
            "Матрица классификации:\n",
            "[[70 29]\n",
            " [23 32]]\n",
            "----------\n",
            "Модель: Многослойный перцептрон\n",
            "Точность: 0.6753246753246753\n",
            "Матрица классификации:\n",
            "[[70 29]\n",
            " [21 34]]\n",
            "----------\n",
            "Модель: Дерево решений\n",
            "Точность: 0.7532467532467533\n",
            "Матрица классификации:\n",
            "[[79 20]\n",
            " [18 37]]\n",
            "----------\n",
            "Модель: Наивный байесовский классификатор\n",
            "Точность: 0.7662337662337663\n",
            "Матрица классификации:\n",
            "[[79 20]\n",
            " [16 39]]\n",
            "----------\n",
            "Модель: Пассивно-агрессивный классификатор\n",
            "Точность: 0.6428571428571429\n",
            "Матрица классификации:\n",
            "[[99  0]\n",
            " [55  0]]\n",
            "----------\n",
            "Модель: Гребневый классификатор\n",
            "Точность: 0.7597402597402597\n",
            "Матрица классификации:\n",
            "[[80 19]\n",
            " [18 37]]\n",
            "----------\n",
            "Модель: Случайный лес\n",
            "Точность: 0.7402597402597403\n",
            "Матрица классификации:\n",
            "[[80 19]\n",
            " [21 34]]\n",
            "----------\n",
            "Модель: Беггинг\n",
            "Точность: 0.7662337662337663\n",
            "Матрица классификации:\n",
            "[[79 20]\n",
            " [16 39]]\n",
            "----------\n"
          ]
        }
      ]
    },
    {
      "cell_type": "markdown",
      "source": [
        "3 Напишите функцию, которая автоматически обучает все перечисленные модели и для каждой выдает оценку точности."
      ],
      "metadata": {
        "id": "p8V7JAVsEEib"
      }
    },
    {
      "cell_type": "code",
      "source": [
        "#3\n",
        "\n",
        "def train_and_evaluate_models(X, y):\n",
        "    X_train, X_test, y_train, y_test = train_test_split(X, y, test_size=0.2, random_state=42)\n",
        "\n",
        "    models = {\n",
        "        \"Метод опорных векторов (без ядра)\": SVC(kernel='linear'),\n",
        "        \"Метод опорных векторов (с линейным ядром)\": SVC(kernel='linear'),\n",
        "        \"Метод опорных векторов (с гауссовым ядром)\": SVC(kernel='rbf'),\n",
        "        \"Метод опорных векторов (с полиномиальным ядром)\": SVC(kernel='poly'),\n",
        "        \"Метод ближайших соседей\": KNeighborsClassifier(),\n",
        "        \"Многослойный перцептрон\": MLPClassifier(),\n",
        "        \"Дерево решений\": DecisionTreeClassifier(),\n",
        "        \"Наивный байесовский классификатор\": GaussianNB(),\n",
        "        \"Пассивно-агрессивный классификатор\": PassiveAggressiveClassifier(),\n",
        "        \"Гребневый классификатор\": RidgeClassifier(),\n",
        "        \"Случайный лес\": RandomForestClassifier(),\n",
        "        \"Беггинг\": BaggingClassifier()\n",
        "    }\n",
        "\n",
        "    results = {}\n",
        "    for name, model in models.items():\n",
        "        model.fit(X_train, y_train)\n",
        "        y_pred = model.predict(X_test)\n",
        "        acc = accuracy_score(y_test, y_pred)\n",
        "        results[name] = acc\n",
        "        print(f\"Модель: {name} - Точность: {acc}\")\n",
        "\n",
        "    return results\n",
        "\n",
        "# Использование функции для обучения и оценки моделей\n",
        "results = train_and_evaluate_models(X, y)"
      ],
      "metadata": {
        "colab": {
          "base_uri": "https://localhost:8080/"
        },
        "id": "D6c5orU61G4D",
        "outputId": "529c8097-d3e9-40bc-be70-fe1dcda17999"
      },
      "execution_count": null,
      "outputs": [
        {
          "output_type": "stream",
          "name": "stdout",
          "text": [
            "Модель: Метод опорных векторов (без ядра) - Точность: 0.7532467532467533\n",
            "Модель: Метод опорных векторов (с линейным ядром) - Точность: 0.7532467532467533\n",
            "Модель: Метод опорных векторов (с гауссовым ядром) - Точность: 0.7662337662337663\n",
            "Модель: Метод опорных векторов (с полиномиальным ядром) - Точность: 0.7597402597402597\n",
            "Модель: Метод ближайших соседей - Точность: 0.6623376623376623\n",
            "Модель: Многослойный перцептрон - Точность: 0.6558441558441559\n",
            "Модель: Дерево решений - Точность: 0.7402597402597403\n",
            "Модель: Наивный байесовский классификатор - Точность: 0.7662337662337663\n",
            "Модель: Пассивно-агрессивный классификатор - Точность: 0.6818181818181818\n",
            "Модель: Гребневый классификатор - Точность: 0.7597402597402597\n",
            "Модель: Случайный лес - Точность: 0.7402597402597403\n",
            "Модель: Беггинг - Точность: 0.7402597402597403\n"
          ]
        }
      ]
    },
    {
      "cell_type": "markdown",
      "source": [
        "4 Повторите полностью анализ для другой задачи - распознавание вида ириса по параметрам растения (можно использовать метод sklearn.datasets.load_iris())."
      ],
      "metadata": {
        "id": "uZ_uVMtaEMuk"
      }
    },
    {
      "cell_type": "code",
      "source": [
        "#4\n",
        "\n",
        "from sklearn.datasets import load_iris\n",
        "\n",
        "iris = load_iris()\n",
        "X = iris.data\n",
        "y = iris.target\n",
        "\n",
        "X.shape,y.shape"
      ],
      "metadata": {
        "colab": {
          "base_uri": "https://localhost:8080/"
        },
        "id": "4sViKVcr2GQ_",
        "outputId": "f299dea3-3e69-4aad-b604-c7fa17408a57"
      },
      "execution_count": null,
      "outputs": [
        {
          "output_type": "execute_result",
          "data": {
            "text/plain": [
              "((150, 4), (150,))"
            ]
          },
          "metadata": {},
          "execution_count": 30
        }
      ]
    },
    {
      "cell_type": "code",
      "source": [
        "results = train_and_evaluate_models(X, y)"
      ],
      "metadata": {
        "colab": {
          "base_uri": "https://localhost:8080/"
        },
        "id": "VSLutRIp2poC",
        "outputId": "64d4a58b-ea0a-4aa0-cd88-8f25be4a9709"
      },
      "execution_count": null,
      "outputs": [
        {
          "output_type": "stream",
          "name": "stdout",
          "text": [
            "Модель: Метод опорных векторов (без ядра) - Точность: 1.0\n",
            "Модель: Метод опорных векторов (с линейным ядром) - Точность: 1.0\n",
            "Модель: Метод опорных векторов (с гауссовым ядром) - Точность: 1.0\n",
            "Модель: Метод опорных векторов (с полиномиальным ядром) - Точность: 1.0\n",
            "Модель: Метод ближайших соседей - Точность: 1.0\n",
            "Модель: Многослойный перцептрон - Точность: 0.9666666666666667\n",
            "Модель: Дерево решений - Точность: 1.0\n",
            "Модель: Наивный байесовский классификатор - Точность: 1.0\n"
          ]
        },
        {
          "output_type": "stream",
          "name": "stderr",
          "text": [
            "/usr/local/lib/python3.10/dist-packages/sklearn/neural_network/_multilayer_perceptron.py:686: ConvergenceWarning: Stochastic Optimizer: Maximum iterations (200) reached and the optimization hasn't converged yet.\n",
            "  warnings.warn(\n"
          ]
        },
        {
          "output_type": "stream",
          "name": "stdout",
          "text": [
            "Модель: Пассивно-агрессивный классификатор - Точность: 0.8333333333333334\n",
            "Модель: Гребневый классификатор - Точность: 0.9\n",
            "Модель: Случайный лес - Точность: 1.0\n",
            "Модель: Беггинг - Точность: 1.0\n"
          ]
        }
      ]
    },
    {
      "cell_type": "code",
      "source": [
        "model=LogisticRegression()\n",
        "\n",
        "model.fit(X,y)\n",
        "\n",
        "y_pred=model.predict(X)\n",
        "\n",
        "print(classification_report(y,y_pred))\n",
        "print(metrics.accuracy_score(y, y_pred))"
      ],
      "metadata": {
        "colab": {
          "base_uri": "https://localhost:8080/"
        },
        "id": "b0J6X_oO3MYK",
        "outputId": "6d3cf5ce-c436-4cff-91d5-1e418a5f60e5"
      },
      "execution_count": null,
      "outputs": [
        {
          "output_type": "stream",
          "name": "stdout",
          "text": [
            "              precision    recall  f1-score   support\n",
            "\n",
            "           0       1.00      1.00      1.00        50\n",
            "           1       0.98      0.94      0.96        50\n",
            "           2       0.94      0.98      0.96        50\n",
            "\n",
            "    accuracy                           0.97       150\n",
            "   macro avg       0.97      0.97      0.97       150\n",
            "weighted avg       0.97      0.97      0.97       150\n",
            "\n",
            "0.9733333333333334\n"
          ]
        },
        {
          "output_type": "stream",
          "name": "stderr",
          "text": [
            "/usr/local/lib/python3.10/dist-packages/sklearn/linear_model/_logistic.py:458: ConvergenceWarning: lbfgs failed to converge (status=1):\n",
            "STOP: TOTAL NO. of ITERATIONS REACHED LIMIT.\n",
            "\n",
            "Increase the number of iterations (max_iter) or scale the data as shown in:\n",
            "    https://scikit-learn.org/stable/modules/preprocessing.html\n",
            "Please also refer to the documentation for alternative solver options:\n",
            "    https://scikit-learn.org/stable/modules/linear_model.html#logistic-regression\n",
            "  n_iter_i = _check_optimize_result(\n"
          ]
        }
      ]
    }
  ]
}