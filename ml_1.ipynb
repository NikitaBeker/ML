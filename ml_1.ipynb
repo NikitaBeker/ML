{
  "nbformat": 4,
  "nbformat_minor": 0,
  "metadata": {
    "colab": {
      "provenance": []
    },
    "kernelspec": {
      "name": "python3",
      "display_name": "Python 3"
    },
    "language_info": {
      "name": "python"
    }
  },
  "cells": [
    {
      "cell_type": "code",
      "execution_count": null,
      "metadata": {
        "colab": {
          "base_uri": "https://localhost:8080/"
        },
        "id": "Z9pTObOE_XpQ",
        "outputId": "e2b7b4d0-3f2d-4e0a-dc97-44e30cd25c00"
      },
      "outputs": [
        {
          "output_type": "stream",
          "name": "stdout",
          "text": [
            "[[ 1  2  3  4  5  6  7  8  9]\n",
            " [ 2  4  6  8 10 12 14 16 18]\n",
            " [ 3  6  9 12 15 18 21 24 27]\n",
            " [ 4  8 12 16 20 24 28 32 36]\n",
            " [ 5 10 15 20 25 30 35 40 45]\n",
            " [ 6 12 18 24 30 36 42 48 54]\n",
            " [ 7 14 21 28 35 42 49 56 63]\n",
            " [ 8 16 24 32 40 48 56 64 72]\n",
            " [ 9 18 27 36 45 54 63 72 81]]\n"
          ]
        }
      ],
      "source": [
        "#1\n",
        "import numpy as np\n",
        "\n",
        "a = np.arange(1, 10)\n",
        "table = a.reshape(9, 1) * a\n",
        "print(table)"
      ]
    },
    {
      "cell_type": "code",
      "source": [
        "#2\n",
        "def arithmetic_matrix(n, first, diff):\n",
        "    arr = np.arange(first, first + n * diff, diff)\n",
        "    matrix = np.diag(arr)\n",
        "    return matrix\n",
        "\n",
        "print(arithmetic_matrix(5, 1.5, -0.5))"
      ],
      "metadata": {
        "colab": {
          "base_uri": "https://localhost:8080/"
        },
        "id": "n42nBLEKAM04",
        "outputId": "e5a3f941-bc43-4ae7-e5f7-4ea93b1bc7d9"
      },
      "execution_count": null,
      "outputs": [
        {
          "output_type": "stream",
          "name": "stdout",
          "text": [
            "[[ 1.5  0.   0.   0.   0. ]\n",
            " [ 0.   1.   0.   0.   0. ]\n",
            " [ 0.   0.   0.5  0.   0. ]\n",
            " [ 0.   0.   0.   0.   0. ]\n",
            " [ 0.   0.   0.   0.  -0.5]]\n"
          ]
        }
      ]
    },
    {
      "cell_type": "code",
      "source": [
        "#3\n",
        "A = np.arange(1, 26).reshape(5, 5)\n",
        "\n",
        "odd_elements = A[::2, ::2].flatten()\n",
        "\n",
        "print(odd_elements)"
      ],
      "metadata": {
        "id": "Q1CMWTMVAk1j",
        "colab": {
          "base_uri": "https://localhost:8080/"
        },
        "outputId": "5bb92b37-6bdc-4e49-df63-4dfbfd468ee6"
      },
      "execution_count": null,
      "outputs": [
        {
          "output_type": "stream",
          "name": "stdout",
          "text": [
            "[ 1  3  5 11 13 15 21 23 25]\n"
          ]
        }
      ]
    },
    {
      "cell_type": "code",
      "source": [
        "#4\n",
        "arr = np.zeros((5,5))\n",
        "arr[0,:] = 1\n",
        "arr[-1,:] = 1\n",
        "arr[:,0] = 1\n",
        "arr[:,-1] = 1\n",
        "print(arr)"
      ],
      "metadata": {
        "colab": {
          "base_uri": "https://localhost:8080/"
        },
        "id": "GGa4r2psCLSJ",
        "outputId": "e7be8a86-45fa-488a-96e5-6c4b1e96c8ab"
      },
      "execution_count": null,
      "outputs": [
        {
          "output_type": "stream",
          "name": "stdout",
          "text": [
            "[[1. 1. 1. 1. 1.]\n",
            " [1. 0. 0. 0. 1.]\n",
            " [1. 0. 0. 0. 1.]\n",
            " [1. 0. 0. 0. 1.]\n",
            " [1. 1. 1. 1. 1.]]\n"
          ]
        }
      ]
    },
    {
      "cell_type": "code",
      "source": [
        "#5\n",
        "arr1 = np.zeros((5,5))\n",
        "arr1[::2,::2] = 5\n",
        "arr1[1::2,1::2] = 5\n",
        "print(arr1)\n",
        "\n",
        "arr2 = np.zeros((5,5))\n",
        "for i in range(5):\n",
        "    for j in range(i+1):\n",
        "        arr2[i,j] = 5\n",
        "print(arr2)\n",
        "\n",
        "det1 = np.linalg.det(arr1)\n",
        "inv1 = np.linalg.inv(arr1)\n",
        "\n",
        "det2 = np.linalg.det(arr2)\n",
        "inv2 = np.linalg.inv(arr2)\n",
        "\n",
        "print(det1)\n",
        "print(inv1)\n",
        "\n",
        "print(det2)\n",
        "print(inv2)"
      ],
      "metadata": {
        "colab": {
          "base_uri": "https://localhost:8080/",
          "height": 564
        },
        "id": "3TBC_FprD6EE",
        "outputId": "a1d6f5d7-7e9b-49ae-97b3-1aa54cd93b7d"
      },
      "execution_count": null,
      "outputs": [
        {
          "output_type": "stream",
          "name": "stdout",
          "text": [
            "[[5. 0. 5. 0. 5.]\n",
            " [0. 5. 0. 5. 0.]\n",
            " [5. 0. 5. 0. 5.]\n",
            " [0. 5. 0. 5. 0.]\n",
            " [5. 0. 5. 0. 5.]]\n",
            "[[5. 0. 0. 0. 0.]\n",
            " [5. 5. 0. 0. 0.]\n",
            " [5. 5. 5. 0. 0.]\n",
            " [5. 5. 5. 5. 0.]\n",
            " [5. 5. 5. 5. 5.]]\n"
          ]
        },
        {
          "output_type": "error",
          "ename": "LinAlgError",
          "evalue": "ignored",
          "traceback": [
            "\u001b[0;31m---------------------------------------------------------------------------\u001b[0m",
            "\u001b[0;31mLinAlgError\u001b[0m                               Traceback (most recent call last)",
            "\u001b[0;32m<ipython-input-5-7ae09d7495a9>\u001b[0m in \u001b[0;36m<cell line: 14>\u001b[0;34m()\u001b[0m\n\u001b[1;32m     12\u001b[0m \u001b[0;34m\u001b[0m\u001b[0m\n\u001b[1;32m     13\u001b[0m \u001b[0mdet1\u001b[0m \u001b[0;34m=\u001b[0m \u001b[0mnp\u001b[0m\u001b[0;34m.\u001b[0m\u001b[0mlinalg\u001b[0m\u001b[0;34m.\u001b[0m\u001b[0mdet\u001b[0m\u001b[0;34m(\u001b[0m\u001b[0marr1\u001b[0m\u001b[0;34m)\u001b[0m\u001b[0;34m\u001b[0m\u001b[0;34m\u001b[0m\u001b[0m\n\u001b[0;32m---> 14\u001b[0;31m \u001b[0minv1\u001b[0m \u001b[0;34m=\u001b[0m \u001b[0mnp\u001b[0m\u001b[0;34m.\u001b[0m\u001b[0mlinalg\u001b[0m\u001b[0;34m.\u001b[0m\u001b[0minv\u001b[0m\u001b[0;34m(\u001b[0m\u001b[0marr1\u001b[0m\u001b[0;34m)\u001b[0m\u001b[0;34m\u001b[0m\u001b[0;34m\u001b[0m\u001b[0m\n\u001b[0m\u001b[1;32m     15\u001b[0m \u001b[0;34m\u001b[0m\u001b[0m\n\u001b[1;32m     16\u001b[0m \u001b[0mdet2\u001b[0m \u001b[0;34m=\u001b[0m \u001b[0mnp\u001b[0m\u001b[0;34m.\u001b[0m\u001b[0mlinalg\u001b[0m\u001b[0;34m.\u001b[0m\u001b[0mdet\u001b[0m\u001b[0;34m(\u001b[0m\u001b[0marr2\u001b[0m\u001b[0;34m)\u001b[0m\u001b[0;34m\u001b[0m\u001b[0;34m\u001b[0m\u001b[0m\n",
            "\u001b[0;32m/usr/local/lib/python3.10/dist-packages/numpy/core/overrides.py\u001b[0m in \u001b[0;36minv\u001b[0;34m(*args, **kwargs)\u001b[0m\n",
            "\u001b[0;32m/usr/local/lib/python3.10/dist-packages/numpy/linalg/linalg.py\u001b[0m in \u001b[0;36minv\u001b[0;34m(a)\u001b[0m\n\u001b[1;32m    550\u001b[0m     \u001b[0msignature\u001b[0m \u001b[0;34m=\u001b[0m \u001b[0;34m'D->D'\u001b[0m \u001b[0;32mif\u001b[0m \u001b[0misComplexType\u001b[0m\u001b[0;34m(\u001b[0m\u001b[0mt\u001b[0m\u001b[0;34m)\u001b[0m \u001b[0;32melse\u001b[0m \u001b[0;34m'd->d'\u001b[0m\u001b[0;34m\u001b[0m\u001b[0;34m\u001b[0m\u001b[0m\n\u001b[1;32m    551\u001b[0m     \u001b[0mextobj\u001b[0m \u001b[0;34m=\u001b[0m \u001b[0mget_linalg_error_extobj\u001b[0m\u001b[0;34m(\u001b[0m\u001b[0m_raise_linalgerror_singular\u001b[0m\u001b[0;34m)\u001b[0m\u001b[0;34m\u001b[0m\u001b[0;34m\u001b[0m\u001b[0m\n\u001b[0;32m--> 552\u001b[0;31m     \u001b[0mainv\u001b[0m \u001b[0;34m=\u001b[0m \u001b[0m_umath_linalg\u001b[0m\u001b[0;34m.\u001b[0m\u001b[0minv\u001b[0m\u001b[0;34m(\u001b[0m\u001b[0ma\u001b[0m\u001b[0;34m,\u001b[0m \u001b[0msignature\u001b[0m\u001b[0;34m=\u001b[0m\u001b[0msignature\u001b[0m\u001b[0;34m,\u001b[0m \u001b[0mextobj\u001b[0m\u001b[0;34m=\u001b[0m\u001b[0mextobj\u001b[0m\u001b[0;34m)\u001b[0m\u001b[0;34m\u001b[0m\u001b[0;34m\u001b[0m\u001b[0m\n\u001b[0m\u001b[1;32m    553\u001b[0m     \u001b[0;32mreturn\u001b[0m \u001b[0mwrap\u001b[0m\u001b[0;34m(\u001b[0m\u001b[0mainv\u001b[0m\u001b[0;34m.\u001b[0m\u001b[0mastype\u001b[0m\u001b[0;34m(\u001b[0m\u001b[0mresult_t\u001b[0m\u001b[0;34m,\u001b[0m \u001b[0mcopy\u001b[0m\u001b[0;34m=\u001b[0m\u001b[0;32mFalse\u001b[0m\u001b[0;34m)\u001b[0m\u001b[0;34m)\u001b[0m\u001b[0;34m\u001b[0m\u001b[0;34m\u001b[0m\u001b[0m\n\u001b[1;32m    554\u001b[0m \u001b[0;34m\u001b[0m\u001b[0m\n",
            "\u001b[0;32m/usr/local/lib/python3.10/dist-packages/numpy/linalg/linalg.py\u001b[0m in \u001b[0;36m_raise_linalgerror_singular\u001b[0;34m(err, flag)\u001b[0m\n\u001b[1;32m     87\u001b[0m \u001b[0;34m\u001b[0m\u001b[0m\n\u001b[1;32m     88\u001b[0m \u001b[0;32mdef\u001b[0m \u001b[0m_raise_linalgerror_singular\u001b[0m\u001b[0;34m(\u001b[0m\u001b[0merr\u001b[0m\u001b[0;34m,\u001b[0m \u001b[0mflag\u001b[0m\u001b[0;34m)\u001b[0m\u001b[0;34m:\u001b[0m\u001b[0;34m\u001b[0m\u001b[0;34m\u001b[0m\u001b[0m\n\u001b[0;32m---> 89\u001b[0;31m     \u001b[0;32mraise\u001b[0m \u001b[0mLinAlgError\u001b[0m\u001b[0;34m(\u001b[0m\u001b[0;34m\"Singular matrix\"\u001b[0m\u001b[0;34m)\u001b[0m\u001b[0;34m\u001b[0m\u001b[0;34m\u001b[0m\u001b[0m\n\u001b[0m\u001b[1;32m     90\u001b[0m \u001b[0;34m\u001b[0m\u001b[0m\n\u001b[1;32m     91\u001b[0m \u001b[0;32mdef\u001b[0m \u001b[0m_raise_linalgerror_nonposdef\u001b[0m\u001b[0;34m(\u001b[0m\u001b[0merr\u001b[0m\u001b[0;34m,\u001b[0m \u001b[0mflag\u001b[0m\u001b[0;34m)\u001b[0m\u001b[0;34m:\u001b[0m\u001b[0;34m\u001b[0m\u001b[0;34m\u001b[0m\u001b[0m\n",
            "\u001b[0;31mLinAlgError\u001b[0m: Singular matrix"
          ]
        }
      ]
    },
    {
      "cell_type": "code",
      "source": [
        "#6-9\n",
        "import pandas as pd\n",
        "df = pd.read_csv('/content/estate.txt')\n",
        "\n",
        "print(df.head())\n",
        "\n",
        "print(df.tail())\n",
        "\n",
        "print(df.info())"
      ],
      "metadata": {
        "colab": {
          "base_uri": "https://localhost:8080/"
        },
        "id": "4Yn_9o1HDdWX",
        "outputId": "4d851247-066a-461c-aa9c-ffbcde257db8"
      },
      "execution_count": null,
      "outputs": [
        {
          "output_type": "stream",
          "name": "stdout",
          "text": [
            "      Id  DistrictId  Rooms      Square  LifeSquare  KitchenSquare  Floor  \\\n",
            "0  11809          27    3.0  115.027311         NaN           10.0      4   \n",
            "1   3013          22    1.0   39.832524   23.169223            8.0      7   \n",
            "2   8215           1    3.0   78.342215   47.671972           10.0      2   \n",
            "3   2352           1    1.0   40.409907         NaN            1.0     10   \n",
            "4  13866          94    2.0   64.285067   38.562517            9.0     16   \n",
            "\n",
            "   HouseFloor  HouseYear  Ecology_1 Ecology_2 Ecology_3  Social_1  Social_2  \\\n",
            "0        10.0       2014   0.075424         B         B        11      3097   \n",
            "1         8.0       1966   0.118537         B         B        30      6207   \n",
            "2        17.0       1988   0.025609         B         B        33      5261   \n",
            "3        22.0       1977   0.007122         B         B         1       264   \n",
            "4        16.0       1972   0.282798         B         B        33      8667   \n",
            "\n",
            "   Social_3  Healthcare_1  Helthcare_2  Shops_1 Shops_2          Price  \n",
            "0         0           NaN            0        0       B  305018.871089  \n",
            "1         1        1183.0            1        0       B  177734.553407  \n",
            "2         0         240.0            3        1       B  282078.720850  \n",
            "3         0           NaN            0        1       B  168106.007630  \n",
            "4         2           NaN            0        6       B  343995.102962  \n",
            "         Id  DistrictId  Rooms     Square  LifeSquare  KitchenSquare  Floor  \\\n",
            "9995   1260          61    2.0  49.090728   33.272626            6.0      3   \n",
            "9996  16265          27    2.0  64.307684   37.038420            9.0     13   \n",
            "9997   2795         178    1.0  29.648057   16.555363            5.0      3   \n",
            "9998  14561          21    1.0  32.330292   22.326870            5.0      3   \n",
            "9999   7202          94    1.0  35.815476   22.301367            6.0      9   \n",
            "\n",
            "      HouseFloor  HouseYear  Ecology_1 Ecology_2 Ecology_3  Social_1  \\\n",
            "9995        12.0       1981   0.300323         B         B        52   \n",
            "9996         0.0       1977   0.072158         B         B         2   \n",
            "9997         5.0       1958   0.460556         B         B        20   \n",
            "9998         9.0       1969   0.194489         B         B        47   \n",
            "9999         9.0       1975   0.127376         B         B        43   \n",
            "\n",
            "      Social_2  Social_3  Healthcare_1  Helthcare_2  Shops_1 Shops_2  \\\n",
            "9995     10311         6           NaN            1        9       B   \n",
            "9996       629         1           NaN            0        0       A   \n",
            "9997      4386        14           NaN            1        5       B   \n",
            "9998      8004         3         125.0            3        5       B   \n",
            "9999      8429         3           NaN            3        9       B   \n",
            "\n",
            "              Price  \n",
            "9995  119367.455796  \n",
            "9996  199715.148807  \n",
            "9997  165953.912580  \n",
            "9998  171842.411855  \n",
            "9999  177685.627486  \n",
            "<class 'pandas.core.frame.DataFrame'>\n",
            "RangeIndex: 10000 entries, 0 to 9999\n",
            "Data columns (total 20 columns):\n",
            " #   Column         Non-Null Count  Dtype  \n",
            "---  ------         --------------  -----  \n",
            " 0   Id             10000 non-null  int64  \n",
            " 1   DistrictId     10000 non-null  int64  \n",
            " 2   Rooms          10000 non-null  float64\n",
            " 3   Square         10000 non-null  float64\n",
            " 4   LifeSquare     7887 non-null   float64\n",
            " 5   KitchenSquare  10000 non-null  float64\n",
            " 6   Floor          10000 non-null  int64  \n",
            " 7   HouseFloor     10000 non-null  float64\n",
            " 8   HouseYear      10000 non-null  int64  \n",
            " 9   Ecology_1      10000 non-null  float64\n",
            " 10  Ecology_2      10000 non-null  object \n",
            " 11  Ecology_3      10000 non-null  object \n",
            " 12  Social_1       10000 non-null  int64  \n",
            " 13  Social_2       10000 non-null  int64  \n",
            " 14  Social_3       10000 non-null  int64  \n",
            " 15  Healthcare_1   5202 non-null   float64\n",
            " 16  Helthcare_2    10000 non-null  int64  \n",
            " 17  Shops_1        10000 non-null  int64  \n",
            " 18  Shops_2        10000 non-null  object \n",
            " 19  Price          10000 non-null  float64\n",
            "dtypes: float64(8), int64(9), object(3)\n",
            "memory usage: 1.5+ MB\n",
            "None\n"
          ]
        }
      ]
    },
    {
      "cell_type": "code",
      "source": [],
      "metadata": {
        "id": "XXxIJpeVNDtC"
      },
      "execution_count": null,
      "outputs": []
    }
  ]
}